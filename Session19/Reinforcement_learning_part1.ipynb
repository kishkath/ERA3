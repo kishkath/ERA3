{
  "cells": [
    {
      "cell_type": "code",
      "source": [
        "import numpy as np\n",
        "\n",
        "# GridWorld settings\n",
        "N = 4  # Grid size (4x4)\n",
        "gamma = 1.0  # No discounting\n",
        "threshold = 1e-4  # Convergence threshold\n",
        "\n",
        "actions = [(-1, 0), (1, 0), (0, -1), (0, 1)]  # Up, Down, Left, Right\n",
        "\n",
        "def is_terminal(state):\n",
        "    return state == (N-1, N-1)\n",
        "\n",
        "def get_next_states(state):\n",
        "    \"\"\" Returns possible next states and transition probabilities.\"\"\"\n",
        "    next_states = []\n",
        "    for action in actions:\n",
        "        new_state = (state[0] + action[0], state[1] + action[1])\n",
        "        # Ensure within bounds\n",
        "        if 0 <= new_state[0] < N and 0 <= new_state[1] < N:\n",
        "            next_states.append(new_state)\n",
        "        else:\n",
        "            next_states.append(state)  # If out of bounds, stay in same state\n",
        "    return next_states\n",
        "\n",
        "def value_iteration():\n",
        "    V = np.zeros((N, N))  # Initialize V(s) to 0 for all states\n",
        "\n",
        "    while True:\n",
        "        delta = 0  # Track max change in values\n",
        "        V_new = np.copy(V)  # Copy of current values\n",
        "\n",
        "        for i in range(N):\n",
        "            for j in range(N):\n",
        "                # if it reaches the terminal state\n",
        "                if is_terminal((i, j)):\n",
        "                    continue  # Skip terminal state\n",
        "\n",
        "                next_states = get_next_states((i, j))\n",
        "                expected_values = [-1 + gamma * V[s] for s in next_states]  # Bellman Update\n",
        "\n",
        "                V_new[i, j] = np.mean(expected_values)  # Average over actions (equal probability)\n",
        "                delta = max(delta, abs(V_new[i, j] - V[i, j]))\n",
        "\n",
        "        V = V_new  # Update value function\n",
        "        if delta < threshold:\n",
        "            break  # Stop if converged\n",
        "\n",
        "    return V\n",
        "\n",
        "# Run value iteration\n",
        "final_values = value_iteration()\n",
        "print(final_values)"
      ],
      "metadata": {
        "colab": {
          "base_uri": "https://localhost:8080/"
        },
        "id": "KRT7je1aEWDj",
        "outputId": "26bb3f4c-5091-4ec2-9870-0bfe1240c743"
      },
      "execution_count": 4,
      "outputs": [
        {
          "output_type": "stream",
          "name": "stdout",
          "text": [
            "[[-59.42367735 -57.42387125 -54.2813141  -51.71012579]\n",
            " [-57.42387125 -54.56699476 -49.71029394 -45.13926711]\n",
            " [-54.2813141  -49.71029394 -40.85391609 -29.99766609]\n",
            " [-51.71012579 -45.13926711 -29.99766609   0.        ]]\n"
          ]
        }
      ]
    }
  ],
  "metadata": {
    "colab": {
      "provenance": [],
      "gpuType": "T4"
    },
    "kernelspec": {
      "display_name": "Python 3",
      "name": "python3"
    },
    "language_info": {
      "name": "python"
    },
    "accelerator": "GPU"
  },
  "nbformat": 4,
  "nbformat_minor": 0
}