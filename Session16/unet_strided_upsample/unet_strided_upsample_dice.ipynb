{
  "cells": [
    {
      "cell_type": "code",
      "source": [
        "!git clone https://github.com/kishkath/ERA3.git"
      ],
      "metadata": {
        "id": "C6ghAJWw2TWc"
      },
      "execution_count": null,
      "outputs": []
    },
    {
      "cell_type": "code",
      "source": [
        "import os\n",
        "os.chdir(\"/content/ERA3/Session16/\")\n",
        "\n",
        "print(\">>> current working directory: \", os.getcwd())"
      ],
      "metadata": {
        "id": "aG1Ad7Tl2TY7"
      },
      "execution_count": null,
      "outputs": []
    },
    {
      "cell_type": "code",
      "source": [
        "from types import SimpleNamespace\n",
        "from main import main\n",
        "\n",
        "args = SimpleNamespace(\n",
        "    data_root=\"./data/oxford-iiit-pet\",        # Dataset will be downloaded here.\n",
        "    epochs=10,                  # Use a small number of epochs for testing.\n",
        "    batch_size=32,\n",
        "    lr=1e-4,\n",
        "    model_type=\"strided_upsample\",\n",
        "    step_size=8,\n",
        "    gamma=0.1,\n",
        "    bce_weight=0.5,\n",
        "    plot_samples=12,\n",
        "    plot_mode=\"both\",\n",
        "    loss_type=\"dice\",\n",
        "    checkpoint_path=\"/content/checkpoint.pth\",\n",
        "    infer_image=\"/content/dog.jpg\"              # Provide a valid path to test inference, if desired.\n",
        ")\n",
        "\n",
        "main(args)"
      ],
      "metadata": {
        "colab": {
          "base_uri": "https://localhost:8080/"
        },
        "id": "vaUGdrIn2TbY",
        "outputId": "5dd8eb4d-025e-4254-93f9-25651ef3cf38"
      },
      "execution_count": null,
      "outputs": [
        {
          "output_type": "stream",
          "name": "stderr",
          "text": [
            "/usr/local/lib/python3.11/dist-packages/albumentations/__init__.py:28: UserWarning: A new version of Albumentations is available: '2.0.5' (you have '2.0.4'). Upgrade using: pip install -U albumentations. To disable automatic update checks, set the environment variable NO_ALBUMENTATIONS_UPDATE to 1.\n",
            "  check_for_updates()\n"
          ]
        },
        {
          "output_type": "stream",
          "name": "stdout",
          "text": [
            "Dataset not found. Downloading Oxford-IIIT Pet dataset via torchvision...\n",
            "Downloading https://thor.robots.ox.ac.uk/pets/images.tar.gz to data/oxford-iiit-pet/images.tar.gz\n"
          ]
        },
        {
          "output_type": "stream",
          "name": "stderr",
          "text": [
            "100%|██████████| 792M/792M [00:48<00:00, 16.4MB/s]\n"
          ]
        },
        {
          "output_type": "stream",
          "name": "stdout",
          "text": [
            "Extracting data/oxford-iiit-pet/images.tar.gz to data/oxford-iiit-pet\n",
            "Downloading https://thor.robots.ox.ac.uk/pets/annotations.tar.gz to data/oxford-iiit-pet/annotations.tar.gz\n"
          ]
        },
        {
          "output_type": "stream",
          "name": "stderr",
          "text": [
            "100%|██████████| 19.2M/19.2M [00:02<00:00, 7.46MB/s]\n"
          ]
        },
        {
          "output_type": "stream",
          "name": "stdout",
          "text": [
            "Extracting data/oxford-iiit-pet/annotations.tar.gz to data/oxford-iiit-pet\n",
            "[INFO] Using device: cuda\n",
            "[INFO] Loading dataset using CustomDataset...\n",
            "Before Removing:  7390 7390\n",
            "After Removing:  7384 7384\n",
            "[INFO] Dataset ready: 5907 training samples, 1477 validation samples.\n",
            "[INFO] Strided as Encoder & Upsampling as Decoder\n"
          ]
        },
        {
          "output_type": "stream",
          "name": "stderr",
          "text": [
            "/usr/local/lib/python3.11/dist-packages/torch/utils/data/dataloader.py:617: UserWarning: This DataLoader will create 4 worker processes in total. Our suggested max number of worker in current system is 2, which is smaller than what this DataLoader is going to create. Please be aware that excessive worker creation might get DataLoader running slow or even freeze, lower the worker number to avoid potential slowness/freeze if necessary.\n",
            "  warnings.warn(\n"
          ]
        },
        {
          "output_type": "stream",
          "name": "stdout",
          "text": [
            "StridedEncoder initialized successfully.\n",
            "DecoderUpsample initialized successfully.\n",
            "StridedUNetUpsample model initialized successfully.\n",
            "[INFO] strided_upsample model initialized.\n",
            "[INFO] Using loss function: dice\n",
            "[INFO] Optimizer and scheduler set.\n",
            "\n",
            "[INFO] Epoch 1/10\n"
          ]
        },
        {
          "output_type": "stream",
          "name": "stderr",
          "text": []
        },
        {
          "output_type": "stream",
          "name": "stdout",
          "text": [
            "[INFO] Epoch 1: Avg Train Loss: 0.3061 | Train Accuracy: 78.71%\n"
          ]
        },
        {
          "output_type": "stream",
          "name": "stderr",
          "text": []
        },
        {
          "output_type": "stream",
          "name": "stdout",
          "text": [
            "[INFO] Epoch 1: Avg Val Loss: 0.2817 | Val Accuracy: 75.87%\n",
            "[INFO] Saved best model with loss 0.2817 to /content/checkpoint.pth\n",
            "[INFO] Epoch completed in 6m 9s\n",
            "\n",
            "[INFO] Epoch 2/10\n"
          ]
        },
        {
          "output_type": "stream",
          "name": "stderr",
          "text": []
        },
        {
          "output_type": "stream",
          "name": "stdout",
          "text": [
            "[INFO] Epoch 2: Avg Train Loss: 0.2116 | Train Accuracy: 85.54%\n"
          ]
        },
        {
          "output_type": "stream",
          "name": "stderr",
          "text": []
        },
        {
          "output_type": "stream",
          "name": "stdout",
          "text": [
            "[INFO] Epoch 2: Avg Val Loss: 0.1858 | Val Accuracy: 86.63%\n",
            "[INFO] Saved best model with loss 0.1858 to /content/checkpoint.pth\n",
            "[INFO] Epoch completed in 6m 10s\n",
            "\n",
            "[INFO] Epoch 3/10\n"
          ]
        },
        {
          "output_type": "stream",
          "name": "stderr",
          "text": []
        },
        {
          "output_type": "stream",
          "name": "stdout",
          "text": [
            "[INFO] Epoch 3: Avg Train Loss: 0.1694 | Train Accuracy: 87.99%\n"
          ]
        },
        {
          "output_type": "stream",
          "name": "stderr",
          "text": []
        },
        {
          "output_type": "stream",
          "name": "stdout",
          "text": [
            "[INFO] Epoch 3: Avg Val Loss: 0.2255 | Val Accuracy: 84.62%\n",
            "[INFO] Epoch completed in 6m 11s\n",
            "\n",
            "[INFO] Epoch 4/10\n"
          ]
        },
        {
          "output_type": "stream",
          "name": "stderr",
          "text": []
        },
        {
          "output_type": "stream",
          "name": "stdout",
          "text": [
            "[INFO] Epoch 4: Avg Train Loss: 0.1483 | Train Accuracy: 89.01%\n"
          ]
        },
        {
          "output_type": "stream",
          "name": "stderr",
          "text": []
        },
        {
          "output_type": "stream",
          "name": "stdout",
          "text": [
            "[INFO] Epoch 4: Avg Val Loss: 0.1459 | Val Accuracy: 89.07%\n",
            "[INFO] Saved best model with loss 0.1459 to /content/checkpoint.pth\n",
            "[INFO] Epoch completed in 6m 10s\n",
            "\n",
            "[INFO] Epoch 5/10\n"
          ]
        },
        {
          "output_type": "stream",
          "name": "stderr",
          "text": [
            "Training Epoch 5:  95%|█████████▌| 176/185 [05:26<00:16,  1.85s/it, loss=0.1550]"
          ]
        }
      ]
    },
    {
      "cell_type": "code",
      "source": [],
      "metadata": {
        "id": "HooIbEj02TdD"
      },
      "execution_count": null,
      "outputs": []
    }
  ],
  "metadata": {
    "accelerator": "GPU",
    "colab": {
      "gpuType": "T4",
      "provenance": []
    },
    "kernelspec": {
      "display_name": "Python 3",
      "name": "python3"
    },
    "language_info": {
      "name": "python"
    }
  },
  "nbformat": 4,
  "nbformat_minor": 0
}